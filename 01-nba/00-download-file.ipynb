{
 "cells": [
  {
   "cell_type": "code",
   "execution_count": 1,
   "id": "ccc032ab-c476-4f26-8fe0-c12fc3e86ad3",
   "metadata": {},
   "outputs": [
    {
     "name": "stdout",
     "output_type": "stream",
     "text": [
      "Requirement already satisfied: gdown in /home/eduardo/.local/share/mise/installs/python/3.12.5/lib/python3.12/site-packages (5.2.0)\n",
      "Requirement already satisfied: beautifulsoup4 in /home/eduardo/.local/share/mise/installs/python/3.12.5/lib/python3.12/site-packages (from gdown) (4.12.3)\n",
      "Requirement already satisfied: filelock in /home/eduardo/.local/share/mise/installs/python/3.12.5/lib/python3.12/site-packages (from gdown) (3.15.4)\n",
      "Requirement already satisfied: requests[socks] in /home/eduardo/.local/share/mise/installs/python/3.12.5/lib/python3.12/site-packages (from gdown) (2.32.3)\n",
      "Requirement already satisfied: tqdm in /home/eduardo/.local/share/mise/installs/python/3.12.5/lib/python3.12/site-packages (from gdown) (4.66.5)\n",
      "Requirement already satisfied: soupsieve>1.2 in /home/eduardo/.local/share/mise/installs/python/3.12.5/lib/python3.12/site-packages (from beautifulsoup4->gdown) (2.6)\n",
      "Requirement already satisfied: charset-normalizer<4,>=2 in /home/eduardo/.local/share/mise/installs/python/3.12.5/lib/python3.12/site-packages (from requests[socks]->gdown) (3.3.2)\n",
      "Requirement already satisfied: idna<4,>=2.5 in /home/eduardo/.local/share/mise/installs/python/3.12.5/lib/python3.12/site-packages (from requests[socks]->gdown) (3.7)\n",
      "Requirement already satisfied: urllib3<3,>=1.21.1 in /home/eduardo/.local/share/mise/installs/python/3.12.5/lib/python3.12/site-packages (from requests[socks]->gdown) (2.2.2)\n",
      "Requirement already satisfied: certifi>=2017.4.17 in /home/eduardo/.local/share/mise/installs/python/3.12.5/lib/python3.12/site-packages (from requests[socks]->gdown) (2024.7.4)\n",
      "Requirement already satisfied: PySocks!=1.5.7,>=1.5.6 in /home/eduardo/.local/share/mise/installs/python/3.12.5/lib/python3.12/site-packages (from requests[socks]->gdown) (1.7.1)\n",
      "Downloading...\n",
      "From: https://drive.google.com/uc?id=1IG63pgyY4TggaWLC6hiUpx54WPsiKoEc\n",
      "To: /home/eduardo/workspace/mestrado/ppgia-x500-introducao-a-ciencia-de-dados/01-nba/datasets/nba_stats.csv\n",
      "100%|██████████████████████████████████████| 3.50M/3.50M [00:00<00:00, 6.54MB/s]\n"
     ]
    }
   ],
   "source": [
    "!pip install gdown\n",
    "\n",
    "!gdown https://drive.google.com/uc?id=1IG63pgyY4TggaWLC6hiUpx54WPsiKoEc -O datasets/nba_stats.csv"
   ]
  }
 ],
 "metadata": {
  "kernelspec": {
   "display_name": "Python 3 (ipykernel)",
   "language": "python",
   "name": "python3"
  },
  "language_info": {
   "codemirror_mode": {
    "name": "ipython",
    "version": 3
   },
   "file_extension": ".py",
   "mimetype": "text/x-python",
   "name": "python",
   "nbconvert_exporter": "python",
   "pygments_lexer": "ipython3",
   "version": "3.12.5"
  }
 },
 "nbformat": 4,
 "nbformat_minor": 5
}
